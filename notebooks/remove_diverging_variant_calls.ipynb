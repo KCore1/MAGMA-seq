{
 "cells": [
  {
   "cell_type": "code",
   "execution_count": 1,
   "metadata": {},
   "outputs": [
    {
     "name": "stdout",
     "output_type": "stream",
     "text": [
      "/projects/brpe7306/fab-library-barcoding/notebooks\n"
     ]
    }
   ],
   "source": [
    "import pandas as pd\n",
    "import re\n",
    "\n",
    "!pwd"
   ]
  },
  {
   "cell_type": "code",
   "execution_count": 3,
   "metadata": {},
   "outputs": [
    {
     "name": "stdout",
     "output_type": "stream",
     "text": [
      "Rep1\n",
      "Number of barcodes:  1037\n",
      "CC121    536\n",
      "4A8      501\n",
      "Name: Gene_H, dtype: int64\n",
      "\n",
      "Rep2\n",
      "Number of barcodes:  1151\n",
      "CC121    580\n",
      "4A8      571\n",
      "Name: Gene_H, dtype: int64\n",
      "\n",
      "Combined\n",
      "Number of barcodes:  861\n",
      "CC121    442\n",
      "4A8      419\n",
      "Name: Gene_H_rep1, dtype: int64\n"
     ]
    }
   ],
   "source": [
    "input_rep1 = \"/projects/brpe7306/fab-library-barcoding/maps_final/VH2_VL1_vhvl.csv\"\n",
    "input_rep2 = \"/projects/brpe7306/fab-library-barcoding/maps_final/VH4_VL3_vhvl.csv\"\n",
    "output_name = \"/projects/brpe7306/fab-library-barcoding/maps_final/VH2VL1_final.csv\"\n",
    "\n",
    "df1 = pd.read_csv(input_rep1)\n",
    "df2 = pd.read_csv(input_rep2)\n",
    "df = pd.merge(df1, df2, on=[\"Barcode\", \"Variant\"], how=\"inner\")\n",
    "df = df.rename(columns=lambda x: re.sub(\"_x\", \"_rep1\", x))\n",
    "df = df.rename(columns=lambda x: re.sub(\"_y\", \"_rep2\", x))\n",
    "df.to_csv(output_name, index=False)\n",
    "print(\"Rep1\")\n",
    "print(\"Number of barcodes: \", len(df1))\n",
    "print(df1[\"Gene_H\"].value_counts())\n",
    "print(\"\")\n",
    "print(\"Rep2\")\n",
    "print(\"Number of barcodes: \", len(df2))\n",
    "print(df2[\"Gene_H\"].value_counts())\n",
    "print(\"\")\n",
    "print(\"Combined\")\n",
    "print(\"Number of barcodes: \", len(df))\n",
    "print(df[\"Gene_H_rep1\"].value_counts())"
   ]
  },
  {
   "cell_type": "code",
   "execution_count": null,
   "metadata": {},
   "outputs": [],
   "source": []
  }
 ],
 "metadata": {
  "kernelspec": {
   "display_name": "ml_env",
   "language": "python",
   "name": "ml_env"
  },
  "language_info": {
   "codemirror_mode": {
    "name": "ipython",
    "version": 3
   },
   "file_extension": ".py",
   "mimetype": "text/x-python",
   "name": "python",
   "nbconvert_exporter": "python",
   "pygments_lexer": "ipython3",
   "version": "3.8.13"
  }
 },
 "nbformat": 4,
 "nbformat_minor": 4
}
