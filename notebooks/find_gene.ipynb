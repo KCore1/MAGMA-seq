{
 "cells": [
  {
   "cell_type": "code",
   "execution_count": 45,
   "metadata": {},
   "outputs": [],
   "source": [
    "from Bio.Seq import Seq\n",
    "from Bio import pairwise2\n",
    "from Bio.pairwise2 import format_alignment\n",
    "import pandas as pd"
   ]
  },
  {
   "cell_type": "code",
   "execution_count": 46,
   "metadata": {},
   "outputs": [
    {
     "name": "stdout",
     "output_type": "stream",
     "text": [
      "ATCCAACCAAAA\n",
      "ATGCATGC----\n",
      "ATCCAACCAAAA\n",
      "ATGCCCCCAT--\n",
      "ATCCAACCAAAA\n",
      "ATCCAACC----\n",
      "ATCCAACCAAAA----\n",
      "ATGCATCCAAAATTTT\n",
      "ATCCAACCAAAA\n",
      "ATCCAACCAAAG\n",
      "Index of min distance WT:  4\n",
      "Matched WT:  ATCCAACCAAAG\n"
     ]
    }
   ],
   "source": [
    "def find_mutations(wt, mut, barcode_idx_end, verbose=False):\n",
    "    \"\"\"Outputs list of mutations from wild type to mutant\"\"\"\n",
    "    alignments = pairwise2.align.globalms(wt, mut, 2, -1, -5, -0.1)\n",
    "    aln = format_alignment(*alignments[0])\n",
    "    if verbose:\n",
    "        print(aln)\n",
    "    start1 = [aln.find(\" \"), aln.find(\"|\"), aln.find(\".\")]\n",
    "    start = min(start1)\n",
    "    mutations = []\n",
    "    ins_count = 0\n",
    "    for i in range(0, start):\n",
    "        if aln[i] == \"-\":\n",
    "            ins_count += 1\n",
    "        if aln[start + i] == \".\":\n",
    "            g = aln[i]\n",
    "            m = aln[start * 2 + i]\n",
    "            pos = i - ins_count + 1\n",
    "            if m != \"-\":\n",
    "                mutations.append(g + str(pos) + m)\n",
    "    return mutations\n",
    "\n",
    "\n",
    "def find_mutations_noalign(wt, mut, barcode_idx_end, verbose=False):\n",
    "    \"\"\"Output list of mutations from wild type to mutant by using barcode index.\"\"\"\n",
    "    mutations = []\n",
    "    for i in range(barcode_idx_end + 1, len(wt)):\n",
    "        if wt[i] != mut[i]:\n",
    "            mutations.append(wt[i] + str(i + 1) + mut[i])\n",
    "    return mutations\n",
    "\n",
    "\n",
    "def find_closest_gene(fmfunc, wts, mut, verbose=False):\n",
    "    mut_sets = []\n",
    "    for wt in wts:\n",
    "        mut_sets.append(fmfunc(wt, mut, 3, verbose))\n",
    "    mut_len = [len(mut_set) for mut_set in mut_sets]\n",
    "    minimum = mut_len.index(min(mut_len))\n",
    "    return mut_sets, minimum, wts[minimum]\n",
    "\n",
    "\n",
    "def min_hamming_distance(mut, wts, print_align=False):\n",
    "    distances = []\n",
    "    for wt in wts:\n",
    "        str1 = mut\n",
    "        if len(str1) < len(wt):\n",
    "            str1 = str1 + \"-\" * (len(wt) - len(str1))\n",
    "            if print_align:\n",
    "                print(str1 + \"\\n\" + wt)\n",
    "        elif len(str1) > len(wt):\n",
    "            wt = wt + \"-\" * (len(str1) - len(wt))\n",
    "            if print_align:\n",
    "                print(str1 + \"\\n\" + wt)\n",
    "        else:\n",
    "            if print_align:\n",
    "                print(str1 + \"\\n\" + wt)\n",
    "        distances.append(sum(c1 != c2 for c1, c2 in zip(str1, wt)))\n",
    "    min_idx = distances.index(min(distances))\n",
    "\n",
    "    return min_idx, wts[min_idx]\n",
    "\n",
    "\n",
    "wts = [\"ATGCATGC\", \"ATGCCCCCAT\", \"ATCCAACC\", \"ATGCATCCAAAATTTT\", \"ATCCAACCAAAG\"]\n",
    "mut = \"ATCCAACCAAAA\"\n",
    "\n",
    "result = min_hamming_distance(mut, wts, print_align=True)\n",
    "print(\"Index of min distance WT: \", result[0])\n",
    "print(\"Matched WT: \", result[1])"
   ]
  },
  {
   "cell_type": "code",
   "execution_count": null,
   "metadata": {},
   "outputs": [],
   "source": []
  }
 ],
 "metadata": {
  "kernelspec": {
   "display_name": "barcode-merge",
   "language": "python",
   "name": "python3"
  },
  "language_info": {
   "codemirror_mode": {
    "name": "ipython",
    "version": 3
   },
   "file_extension": ".py",
   "mimetype": "text/x-python",
   "name": "python",
   "nbconvert_exporter": "python",
   "pygments_lexer": "ipython3",
   "version": "3.10.4 (main, Mar 31 2022, 08:41:55) [GCC 7.5.0]"
  },
  "vscode": {
   "interpreter": {
    "hash": "b6374c668527f29b62e19f4ed4c2e0136c881a54bf24bfb5108eb472bda431a0"
   }
  }
 },
 "nbformat": 4,
 "nbformat_minor": 4
}
