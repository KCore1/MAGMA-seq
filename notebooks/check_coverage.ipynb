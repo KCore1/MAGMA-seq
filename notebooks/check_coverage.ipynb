{
 "cells": [
  {
   "cell_type": "code",
   "execution_count": 1,
   "metadata": {},
   "outputs": [],
   "source": [
    "import pandas as pd\n",
    "import numpy as np\n",
    "from itertools import combinations"
   ]
  },
  {
   "cell_type": "code",
   "execution_count": 31,
   "metadata": {},
   "outputs": [
    {
     "name": "stdout",
     "output_type": "stream",
     "text": [
      "4A8\n",
      "['M59I', 'D110E'] not found\n",
      "['T94M', 'D110E'] not found\n",
      "['M59I', 'V109L', 'D110E'] not found\n",
      "['M59I', 'S7T', 'T94M', 'D110E'] not found\n",
      "['M59I', 'T94M', 'V109L', 'D110E'] not found\n",
      "['Q120K', 'S7T', 'T94M', 'V109L'] not found\n",
      "['M59I', 'Q120K', 'T94M', 'V109L', 'D110E'] not found\n",
      "['M59I', 'S7T', 'T94M', 'V109L', 'D110E'] not found\n",
      "56 out of 64\n",
      "\n",
      "CC12.1\n",
      "['L27F', 'F58Y'] not found\n",
      "63 out of 64\n"
     ]
    }
   ],
   "source": [
    "def get_gene(input_str):\n",
    "    gene = input_str.split(\">\")[0]\n",
    "    return gene\n",
    "\n",
    "def extract_mutations_from_str(input_str):\n",
    "    mut_list = input_str.split(\"|\")\n",
    "    mut_list = [mut.split(\":\")[1] for mut in mut_list]\n",
    "    mut_list = [mut.split(\";\") for mut in mut_list]\n",
    "    mut_list = mut_list[0] + mut_list[1]\n",
    "    mut_list = [mut.split(\"-\")[0] for mut in mut_list]\n",
    "    mut_list = [mut for mut in mut_list if mut != \"WT\"]\n",
    "    return mut_list\n",
    "\n",
    "def is_silent(mut):\n",
    "    aa1 = mut[0]\n",
    "    aa2= mut[-1]\n",
    "    if aa1 == aa2:\n",
    "        return True\n",
    "    else:\n",
    "        return False\n",
    "    \n",
    "encoded_silent = [\"A85A\", \"E86E\", \"P100P\", \"A9A\", \"V20V\", \"T98T\"]\n",
    "variants, all_muts = [], []\n",
    "\n",
    "df = pd.read_csv(\"/projects/brpe7306/fab-library-barcoding/MLE/output/Final/combine_top25-50_test1.csv\")\n",
    "# df = pd.read_csv(\"/projects/brpe7306/fab-library-barcoding/maps_final/VH2VL1_final.csv\")\n",
    "\n",
    "for i, variant in enumerate(df['Variant'].unique()):\n",
    "    gene = get_gene(variant)\n",
    "    mut_list = extract_mutations_from_str(variant)\n",
    "    nonsilent_list = [mut for mut in mut_list if mut not in encoded_silent]\n",
    "    variants.append(nonsilent_list)\n",
    "    all_muts.append(mut_list)\n",
    "\n",
    "mutations_encoded_4A8 = [\"M59I\", \"Q120K\", \"S7T\", \"T94M\", \"V109L\", \"D110E\"]\n",
    "combinations_4A8 = sum([list(map(list, combinations(mutations_encoded_4A8, i))) for i in range(len(mutations_encoded_4A8) + 1)], [])\n",
    "mutations_encoded_CC121 = ['L27F', 'F58Y', 'L104M', 'V3Q', 'M4L', 'E107D']\n",
    "combinations_CC121 = sum([list(map(list, combinations(mutations_encoded_CC121, i))) for i in range(len(mutations_encoded_CC121) + 1)], [])\n",
    "\n",
    "count = 0\n",
    "print(\"4A8\")\n",
    "for variant in combinations_4A8:\n",
    "    if variant in variants:\n",
    "        # print(variant, \"found\")\n",
    "        count += 1\n",
    "    else:\n",
    "        print(variant, \"not found\")\n",
    "print(count, \"out of\", len(combinations_4A8))\n",
    "\n",
    "print(\"\")\n",
    "print(\"CC12.1\")\n",
    "\n",
    "count = 0\n",
    "for variant in combinations_CC121:\n",
    "    if variant in variants:\n",
    "        # print(variant, \"found\")\n",
    "        count += 1\n",
    "    else:\n",
    "        print(variant, \"not found\")\n",
    "print(count, \"out of\", len(combinations_CC121))"
   ]
  },
  {
   "cell_type": "code",
   "execution_count": null,
   "metadata": {},
   "outputs": [],
   "source": []
  }
 ],
 "metadata": {
  "kernelspec": {
   "display_name": "ml_env",
   "language": "python",
   "name": "ml_env"
  },
  "language_info": {
   "codemirror_mode": {
    "name": "ipython",
    "version": 3
   },
   "file_extension": ".py",
   "mimetype": "text/x-python",
   "name": "python",
   "nbconvert_exporter": "python",
   "pygments_lexer": "ipython3",
   "version": "3.8.13"
  }
 },
 "nbformat": 4,
 "nbformat_minor": 4
}
